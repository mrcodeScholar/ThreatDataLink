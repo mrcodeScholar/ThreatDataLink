{
 "cells": [
  {
   "cell_type": "code",
   "execution_count": 1,
   "id": "ef3eb094",
   "metadata": {},
   "outputs": [
    {
     "name": "stdout",
     "output_type": "stream",
     "text": [
      "[DONE] Added 'Merged_Impact_and_Method' and saved as 'Updated_Att&ckToCveMappings.csv'\n"
     ]
    }
   ],
   "source": [
    "import pandas as pd\n",
    "\n",
    "# Load your CSV\n",
    "df = pd.read_csv('Att&ckToCveMappings.csv')\n",
    "\n",
    "# Columns to merge\n",
    "cols_to_merge = ['Primary Impact', 'Secondary Impact', 'Exploitation Technique', 'Uncategorized']\n",
    "\n",
    "# Ensure missing columns are created as empty if not found\n",
    "for col in cols_to_merge:\n",
    "    if col not in df.columns:\n",
    "        print(f\"[WARNING] Column '{col}' not found. Filling with empty strings.\")\n",
    "        df[col] = ''\n",
    "\n",
    "# Merge columns into one string per row (skip empty cells)\n",
    "df['Merged_Impact_and_Method'] = df[cols_to_merge].fillna('').agg('; '.join, axis=1)\n",
    "df['Merged_Impact_and_Method'] = df['Merged_Impact_and_Method'].str.replace(r'(;\\s)+', '; ', regex=True).str.strip('; ')\n",
    "\n",
    "# Save the new DataFrame\n",
    "df.to_csv('Updated_Att&ckToCveMappings.csv', index=False)\n",
    "print(\"[DONE] Added 'Merged_Impact_and_Method' and saved as 'Updated_Att&ckToCveMappings.csv'\")"
   ]
  },
  {
   "cell_type": "code",
   "execution_count": 2,
   "id": "9858581b",
   "metadata": {},
   "outputs": [
    {
     "name": "stdout",
     "output_type": "stream",
     "text": [
      "['CVE ID', 'Primary Impact', 'Secondary Impact', 'Exploitation Technique', 'Uncategorized', 'Phase', 'Merged_Impact_and_Method']\n"
     ]
    }
   ],
   "source": [
    "import pandas as pd\n",
    "\n",
    "# Load the CSV file\n",
    "df = pd.read_csv('Updated_Att&ckToCveMappings.csv')\n",
    "print(df.columns.tolist())\n",
    "df = df.drop(columns=[\n",
    "    'Primary Impact',\n",
    "    'Secondary Impact',\n",
    "    'Exploitation Technique',\n",
    "    'Uncategorized',\n",
    "    'Phase'\n",
    "])\n",
    "df.to_csv('Final_AttackToCveMappings.csv', index=False)"
   ]
  },
  {
   "cell_type": "code",
   "execution_count": 5,
   "id": "535f9d62",
   "metadata": {},
   "outputs": [],
   "source": [
    "import pandas as pd\n",
    "\n",
    "# Load your files (update filenames as needed)\n",
    "cleaned_df = pd.read_csv('CleanedUpdates2.csv')  # Contains CVE_ID and CVE_Description\n",
    "final_df = pd.read_csv('Final_AttackToCveMappings.csv')  # Contains CVE_ID and Merged_Impact_and_Method\n",
    "\n",
    "# Merge on CVE_ID\n",
    "merged_df = pd.merge(final_df, cleaned_df, on='CVE_ID', how='left')\n",
    "\n",
    "# Save the result to a new Excel file\n",
    "merged_df.to_csv('Final_AttackToCveMappings.csv', index=False)"
   ]
  },
  {
   "cell_type": "code",
   "execution_count": null,
   "id": "4cdce9f0",
   "metadata": {},
   "outputs": [],
   "source": []
  }
 ],
 "metadata": {
  "kernelspec": {
   "display_name": "Python 3",
   "language": "python",
   "name": "python3"
  },
  "language_info": {
   "codemirror_mode": {
    "name": "ipython",
    "version": 3
   },
   "file_extension": ".py",
   "mimetype": "text/x-python",
   "name": "python",
   "nbconvert_exporter": "python",
   "pygments_lexer": "ipython3",
   "version": "3.12.10"
  }
 },
 "nbformat": 4,
 "nbformat_minor": 5
}
