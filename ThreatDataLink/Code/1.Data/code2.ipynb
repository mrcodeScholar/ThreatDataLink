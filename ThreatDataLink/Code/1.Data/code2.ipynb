{
 "cells": [
  {
   "cell_type": "code",
   "execution_count": 1,
   "id": "75b8bdd0",
   "metadata": {},
   "outputs": [
    {
     "name": "stdout",
     "output_type": "stream",
     "text": [
      "[✅] File 'cve_single_technique.xlsx' created with one technique per row.\n"
     ]
    }
   ],
   "source": [
    "import pandas as pd\n",
    "\n",
    "# Load your Excel file\n",
    "df = pd.read_csv(\"Final_AttackToCveMappings.csv\")  # Replace with actual filename\n",
    "\n",
    "# Rename column for standardization\n",
    "df.rename(columns={'Merged_Impact_and_Method': 'MITRE_Technique_Numbers'}, inplace=True)\n",
    "\n",
    "# Split the MITRE_Technique_Numbers column into a list\n",
    "df['MITRE_Technique_Numbers'] = df['MITRE_Technique_Numbers'].str.split('; ')\n",
    "\n",
    "# Explode the list so each technique gets its own row\n",
    "df = df.explode('MITRE_Technique_Numbers')\n",
    "\n",
    "# Save to Excel in the desired format\n",
    "df.to_excel(\"cve_single_technique.xlsx\", index=False)\n",
    "\n",
    "print(\"[✅] File 'cve_single_technique.xlsx' created with one technique per row.\")\n"
   ]
  }
 ],
 "metadata": {
  "kernelspec": {
   "display_name": "Python 3",
   "language": "python",
   "name": "python3"
  },
  "language_info": {
   "codemirror_mode": {
    "name": "ipython",
    "version": 3
   },
   "file_extension": ".py",
   "mimetype": "text/x-python",
   "name": "python",
   "nbconvert_exporter": "python",
   "pygments_lexer": "ipython3",
   "version": "3.12.10"
  }
 },
 "nbformat": 4,
 "nbformat_minor": 5
}
