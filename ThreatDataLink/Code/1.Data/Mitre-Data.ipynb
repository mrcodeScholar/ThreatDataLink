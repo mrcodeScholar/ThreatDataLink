{
 "cells": [
  {
   "cell_type": "code",
   "execution_count": 1,
   "id": "180a9555",
   "metadata": {},
   "outputs": [
    {
     "name": "stderr",
     "output_type": "stream",
     "text": [
      "\u001b[32m2025-06-09 01:46:24.261\u001b[0m | \u001b[1mINFO    \u001b[0m | \u001b[36mmitreattack.attackToExcel.attackToExcel\u001b[0m:\u001b[36mget_stix_data\u001b[0m:\u001b[36m69\u001b[0m - \u001b[1mDownloading ATT&CK data from github.com/mitre/cti\u001b[0m\n",
      "parsing techniques: 100%|██████████| 679/679 [00:00<00:00, 1541.89it/s]\n",
      "parsing relationships for type=technique: 100%|██████████| 20411/20411 [00:01<00:00, 16437.00it/s]\n"
     ]
    },
    {
     "name": "stdout",
     "output_type": "stream",
     "text": [
      "366                                 Web Service\n",
      "497    Web Service: Bidirectional Communication\n",
      "657             Web Service: Dead Drop Resolver\n",
      "417          Web Service: One-Way Communication\n",
      "Name: name, dtype: object\n",
      "        reference                                           citation  \\\n",
      "1974  LOLBAS Wmic  LOLBAS. (n.d.). Wmic.exe. Retrieved July 31, 2...   \n",
      "\n",
      "                                                    url  \n",
      "1974  https://lolbas-project.github.io/lolbas/Binari...  \n",
      "Index(['ID', 'STIX ID', 'name', 'description', 'url', 'created',\n",
      "       'last modified', 'domain', 'version', 'tactics', 'detection',\n",
      "       'platforms', 'data sources', 'is sub-technique', 'sub-technique of',\n",
      "       'contributors', 'impact type', 'supports remote',\n",
      "       'relationship citations'],\n",
      "      dtype='object')\n"
     ]
    }
   ],
   "source": [
    "# Install mitreattack-python if not already installed\n",
    "# pip install mitreattack-python\n",
    "\n",
    "# %%\n",
    "import mitreattack.attackToExcel.attackToExcel as attackToExcel\n",
    "import mitreattack.attackToExcel.stixToDf as stixToDf\n",
    "\n",
    "# Download and parse ATT&CK STIX data\n",
    "attackdata = attackToExcel.get_stix_data(\"enterprise-attack\")\n",
    "techniques_data = stixToDf.techniquesToDf(attackdata, \"enterprise-attack\")\n",
    "\n",
    "# Extract the techniques DataFrame\n",
    "techniques_df = techniques_data[\"techniques\"]\n",
    "\n",
    "# Print all techniques with ID containing 'T1102'\n",
    "print(techniques_df[techniques_df[\"ID\"].str.contains(\"T1102\")][\"name\"])\n",
    "\n",
    "# Extract citations mentioning LOLBAS Wmic\n",
    "citations_df = techniques_data[\"citations\"]\n",
    "print(citations_df[citations_df[\"reference\"].str.contains(\"LOLBAS Wmic\")])\n",
    "\n",
    "# %%\n",
    "# Print column names (for reference)\n",
    "print(techniques_df.columns)\n",
    "\n",
    "# %%\n",
    "# Keep only 'ID' and 'description' columns\n",
    "techniques_df = techniques_df[[\"ID\", \"description\"]]\n",
    "\n",
    "# %%\n",
    "# Save to Excel\n",
    "techniques_df.to_excel(\"techniques.xlsx\", index=False)\n"
   ]
  },
  {
   "cell_type": "code",
   "execution_count": 2,
   "id": "f4437877",
   "metadata": {},
   "outputs": [
    {
     "name": "stdout",
     "output_type": "stream",
     "text": [
      "Collecting pandas\n",
      "  Using cached pandas-2.3.0-cp312-cp312-manylinux_2_17_x86_64.manylinux2014_x86_64.whl.metadata (91 kB)\n",
      "Requirement already satisfied: numpy>=1.26.0 in /home/user/Documents/LinkingCVE/Code/myenv/lib/python3.12/site-packages (from pandas) (2.3.0)\n",
      "Requirement already satisfied: python-dateutil>=2.8.2 in /home/user/Documents/LinkingCVE/Code/myenv/lib/python3.12/site-packages (from pandas) (2.9.0.post0)\n",
      "Collecting pytz>=2020.1 (from pandas)\n",
      "  Using cached pytz-2025.2-py2.py3-none-any.whl.metadata (22 kB)\n",
      "Collecting tzdata>=2022.7 (from pandas)\n",
      "  Using cached tzdata-2025.2-py2.py3-none-any.whl.metadata (1.4 kB)\n",
      "Requirement already satisfied: six>=1.5 in /home/user/Documents/LinkingCVE/Code/myenv/lib/python3.12/site-packages (from python-dateutil>=2.8.2->pandas) (1.17.0)\n",
      "Using cached pandas-2.3.0-cp312-cp312-manylinux_2_17_x86_64.manylinux2014_x86_64.whl (12.0 MB)\n",
      "Using cached pytz-2025.2-py2.py3-none-any.whl (509 kB)\n",
      "Using cached tzdata-2025.2-py2.py3-none-any.whl (347 kB)\n",
      "Installing collected packages: pytz, tzdata, pandas\n",
      "Successfully installed pandas-2.3.0 pytz-2025.2 tzdata-2025.2\n",
      "Note: you may need to restart the kernel to use updated packages.\n"
     ]
    }
   ],
   "source": [
    "pip install pandas"
   ]
  },
  {
   "cell_type": "code",
   "execution_count": 3,
   "id": "7d7e15fb",
   "metadata": {},
   "outputs": [
    {
     "name": "stdout",
     "output_type": "stream",
     "text": [
      "CVE ID\n",
      "CVE-2019-13541    2\n",
      "CVE-2018-11049    2\n",
      "CVE-2019-10980    2\n",
      "CVE-2014-6287     1\n",
      "CVE-2014-6120     1\n",
      "                 ..\n",
      "CVE-2019-13511    1\n",
      "CVE-2020-12038    1\n",
      "CVE-2019-6563     1\n",
      "CVE-2018-19007    1\n",
      "CVE-2018-7520     1\n",
      "Name: count, Length: 836, dtype: int64\n"
     ]
    }
   ],
   "source": [
    "import pandas as pd\n",
    "\n",
    "cve = pd.read_csv(\"Att&ckToCveMappings.csv\")\n",
    "print(cve['CVE ID'].value_counts())"
   ]
  },
  {
   "cell_type": "code",
   "execution_count": 10,
   "id": "082fcc1f",
   "metadata": {},
   "outputs": [
    {
     "data": {
      "text/html": [
       "<div>\n",
       "<style scoped>\n",
       "    .dataframe tbody tr th:only-of-type {\n",
       "        vertical-align: middle;\n",
       "    }\n",
       "\n",
       "    .dataframe tbody tr th {\n",
       "        vertical-align: top;\n",
       "    }\n",
       "\n",
       "    .dataframe thead th {\n",
       "        text-align: right;\n",
       "    }\n",
       "</style>\n",
       "<table border=\"1\" class=\"dataframe\">\n",
       "  <thead>\n",
       "    <tr style=\"text-align: right;\">\n",
       "      <th></th>\n",
       "      <th>CVE_ID</th>\n",
       "      <th>MITRE_Technique_Numbers</th>\n",
       "      <th>CVE_Description</th>\n",
       "    </tr>\n",
       "  </thead>\n",
       "  <tbody>\n",
       "    <tr>\n",
       "      <th>0</th>\n",
       "      <td>CVE-2019-15243</td>\n",
       "      <td>T1059</td>\n",
       "      <td>Multiple vulnerabilities in Cisco SPA100 Serie...</td>\n",
       "    </tr>\n",
       "    <tr>\n",
       "      <th>1</th>\n",
       "      <td>CVE-2019-15243</td>\n",
       "      <td>T1190</td>\n",
       "      <td>Multiple vulnerabilities in Cisco SPA100 Serie...</td>\n",
       "    </tr>\n",
       "    <tr>\n",
       "      <th>2</th>\n",
       "      <td>CVE-2019-15243</td>\n",
       "      <td>T1078</td>\n",
       "      <td>Multiple vulnerabilities in Cisco SPA100 Serie...</td>\n",
       "    </tr>\n",
       "    <tr>\n",
       "      <th>3</th>\n",
       "      <td>CVE-2019-15976</td>\n",
       "      <td>T1068</td>\n",
       "      <td>Multiple vulnerabilities in the authentication...</td>\n",
       "    </tr>\n",
       "    <tr>\n",
       "      <th>4</th>\n",
       "      <td>CVE-2019-15976</td>\n",
       "      <td>T1059</td>\n",
       "      <td>Multiple vulnerabilities in the authentication...</td>\n",
       "    </tr>\n",
       "    <tr>\n",
       "      <th>...</th>\n",
       "      <td>...</td>\n",
       "      <td>...</td>\n",
       "      <td>...</td>\n",
       "    </tr>\n",
       "    <tr>\n",
       "      <th>1709</th>\n",
       "      <td>CVE-2018-19833</td>\n",
       "      <td>T1565.001</td>\n",
       "      <td>The owned function of a smart contract impleme...</td>\n",
       "    </tr>\n",
       "    <tr>\n",
       "      <th>1710</th>\n",
       "      <td>CVE-2019-13533</td>\n",
       "      <td>T855</td>\n",
       "      <td>In Omron PLC CJ series, all versions, and Omro...</td>\n",
       "    </tr>\n",
       "    <tr>\n",
       "      <th>1711</th>\n",
       "      <td>CVE-2019-13533</td>\n",
       "      <td>T842</td>\n",
       "      <td>In Omron PLC CJ series, all versions, and Omro...</td>\n",
       "    </tr>\n",
       "    <tr>\n",
       "      <th>1712</th>\n",
       "      <td>CVE-2019-10980</td>\n",
       "      <td>T873</td>\n",
       "      <td>A type confusion vulnerability may be exploite...</td>\n",
       "    </tr>\n",
       "    <tr>\n",
       "      <th>1713</th>\n",
       "      <td>CVE-2019-10980</td>\n",
       "      <td>T1203</td>\n",
       "      <td>A type confusion vulnerability may be exploite...</td>\n",
       "    </tr>\n",
       "  </tbody>\n",
       "</table>\n",
       "<p>1714 rows × 3 columns</p>\n",
       "</div>"
      ],
      "text/plain": [
       "              CVE_ID MITRE_Technique_Numbers  \\\n",
       "0     CVE-2019-15243                   T1059   \n",
       "1     CVE-2019-15243                   T1190   \n",
       "2     CVE-2019-15243                   T1078   \n",
       "3     CVE-2019-15976                   T1068   \n",
       "4     CVE-2019-15976                   T1059   \n",
       "...              ...                     ...   \n",
       "1709  CVE-2018-19833               T1565.001   \n",
       "1710  CVE-2019-13533                    T855   \n",
       "1711  CVE-2019-13533                    T842   \n",
       "1712  CVE-2019-10980                    T873   \n",
       "1713  CVE-2019-10980                   T1203   \n",
       "\n",
       "                                        CVE_Description  \n",
       "0     Multiple vulnerabilities in Cisco SPA100 Serie...  \n",
       "1     Multiple vulnerabilities in Cisco SPA100 Serie...  \n",
       "2     Multiple vulnerabilities in Cisco SPA100 Serie...  \n",
       "3     Multiple vulnerabilities in the authentication...  \n",
       "4     Multiple vulnerabilities in the authentication...  \n",
       "...                                                 ...  \n",
       "1709  The owned function of a smart contract impleme...  \n",
       "1710  In Omron PLC CJ series, all versions, and Omro...  \n",
       "1711  In Omron PLC CJ series, all versions, and Omro...  \n",
       "1712  A type confusion vulnerability may be exploite...  \n",
       "1713  A type confusion vulnerability may be exploite...  \n",
       "\n",
       "[1714 rows x 3 columns]"
      ]
     },
     "execution_count": 10,
     "metadata": {},
     "output_type": "execute_result"
    }
   ],
   "source": [
    "import pandas as pd\n",
    "\n",
    "# Load the dataset\n",
    "df = pd.read_excel(\"cve_single_technique.xlsx\")\n",
    "\n",
    "attack\n"
   ]
  },
  {
   "cell_type": "code",
   "execution_count": 12,
   "id": "b648274f",
   "metadata": {},
   "outputs": [
    {
     "name": "stdout",
     "output_type": "stream",
     "text": [
      "Unique main techniques: 91\n",
      "Unique sub-techniques: 46\n"
     ]
    }
   ],
   "source": [
    "# Clean the data first\n",
    "techniques = df['MITRE_Technique_Numbers'].dropna().astype(str).str.strip()\n",
    "\n",
    "# Now count techniques\n",
    "main_tech = techniques[~techniques.str.contains('.', regex=False)]\n",
    "sub_tech = techniques[techniques.str.contains('.', regex=False)]\n",
    "\n",
    "print(f\"Unique main techniques: {main_tech.nunique()}\")\n",
    "print(f\"Unique sub-techniques: {sub_tech.nunique()}\")\n"
   ]
  },
  {
   "cell_type": "code",
   "execution_count": 16,
   "id": "6b4a7aa8",
   "metadata": {},
   "outputs": [
    {
     "data": {
      "text/plain": [
       "836"
      ]
     },
     "execution_count": 16,
     "metadata": {},
     "output_type": "execute_result"
    }
   ],
   "source": [
    "df['CVE_ID'].nunique()"
   ]
  }
 ],
 "metadata": {
  "kernelspec": {
   "display_name": "myenv",
   "language": "python",
   "name": "python3"
  },
  "language_info": {
   "codemirror_mode": {
    "name": "ipython",
    "version": 3
   },
   "file_extension": ".py",
   "mimetype": "text/x-python",
   "name": "python",
   "nbconvert_exporter": "python",
   "pygments_lexer": "ipython3",
   "version": "3.12.3"
  }
 },
 "nbformat": 4,
 "nbformat_minor": 5
}
